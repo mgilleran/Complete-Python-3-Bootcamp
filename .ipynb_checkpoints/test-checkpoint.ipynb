{
 "cells": [
  {
   "cell_type": "code",
   "execution_count": 5,
   "metadata": {},
   "outputs": [],
   "source": [
    "def myfunc(*args):\n",
    "    my_list = []\n",
    "    for num in args:\n",
    "        if num % 2 == 0:\n",
    "            my_list.append(num)\n",
    "        else:\n",
    "            pass\n",
    "    return my_list"
   ]
  },
  {
   "cell_type": "code",
   "execution_count": 6,
   "metadata": {},
   "outputs": [
    {
     "data": {
      "text/plain": [
       "[0, 2, 10]"
      ]
     },
     "execution_count": 6,
     "metadata": {},
     "output_type": "execute_result"
    }
   ],
   "source": [
    "myfunc(0,2,3,10)"
   ]
  },
  {
   "cell_type": "code",
   "execution_count": 13,
   "metadata": {},
   "outputs": [],
   "source": [
    "def myfunc(mystring):\n",
    "    myfinal = []\n",
    "    myfinal = [num for num in mystring]\n",
    "    return myfinal"
   ]
  },
  {
   "cell_type": "code",
   "execution_count": 14,
   "metadata": {},
   "outputs": [
    {
     "data": {
      "text/plain": [
       "['m', 'a', 'd', 'e', 'l', 'i', 'n', 'e']"
      ]
     },
     "execution_count": 14,
     "metadata": {},
     "output_type": "execute_result"
    }
   ],
   "source": [
    "myfunc('madeline')"
   ]
  },
  {
   "cell_type": "code",
   "execution_count": 16,
   "metadata": {},
   "outputs": [],
   "source": [
    "def my_func(st):\n",
    "\n",
    "    res = []\n",
    "    #Iterate over the characters\n",
    "    for index, c in enumerate(st):\n",
    "        if index % 2 == 0:\n",
    "            #Refer to each character via index and append modified character to list\n",
    "            res.append(c.upper())\n",
    "        else:\n",
    "            res.append(c.lower())\n",
    "\n",
    "    #Join the list into a string and return\n",
    "    return ''.join(res)\n"
   ]
  },
  {
   "cell_type": "code",
   "execution_count": 17,
   "metadata": {},
   "outputs": [
    {
     "name": "stdout",
     "output_type": "stream",
     "text": [
      "HeLlOwOrLd\n"
     ]
    }
   ],
   "source": [
    "print(my_func('helloworld'))"
   ]
  },
  {
   "cell_type": "code",
   "execution_count": null,
   "metadata": {},
   "outputs": [],
   "source": []
  }
 ],
 "metadata": {
  "kernelspec": {
   "display_name": "Python 3",
   "language": "python",
   "name": "python3"
  },
  "language_info": {
   "codemirror_mode": {
    "name": "ipython",
    "version": 3
   },
   "file_extension": ".py",
   "mimetype": "text/x-python",
   "name": "python",
   "nbconvert_exporter": "python",
   "pygments_lexer": "ipython3",
   "version": "3.8.1"
  }
 },
 "nbformat": 4,
 "nbformat_minor": 4
}
